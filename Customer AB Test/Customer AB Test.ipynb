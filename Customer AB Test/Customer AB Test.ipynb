{
 "cells": [
  {
   "cell_type": "markdown",
   "metadata": {},
   "source": [
    "# AU/GB - Customer A/B Test"
   ]
  },
  {
   "cell_type": "code",
   "execution_count": 21,
   "metadata": {},
   "outputs": [],
   "source": [
    "import pandas as pd\n",
    "import numpy as np\n",
    "import matplotlib.pyplot as plt\n",
    "import seaborn as sns\n",
    "from scipy.stats import ttest_ind_from_stats\n",
    "%matplotlib inline"
   ]
  },
  {
   "cell_type": "code",
   "execution_count": 22,
   "metadata": {},
   "outputs": [],
   "source": [
    "# DWH connection and group split\n",
    "connection = 'connections.json'\n",
    "query = 'm_education.sql'\n",
    "df_dwh = dsutil.db.run_dwh_query_from_file(query, connection)\n",
    "df_dwh.columns = ['test','country','locale','customer_id','segment','earliest_sent_week','earliest_sent_date','nps_score','channel','earliest_sent_hf_running_week','10w_revenue_excluding_vat_local_currency','10w_voucher_discount_amount_local_currency','10w_deliveries','10w_cancelled_weeks']\n",
    "\n",
    "df_dwh.drop(['test','locale','earliest_sent_week','earliest_sent_date','channel','earliest_sent_hf_running_week'], axis=1)\n",
    "df_dwh.drop_duplicates(subset='customer_id', keep=\"last\")\n",
    "\n",
    "df_au = df_dwh[df_dwh.country=='AU']\n",
    "df_au_test = df_au[df_au.segment=='test']\n",
    "df_au_control = df_au[df_au.segment=='control']\n",
    "\n",
    "df_gb = df_dwh[df_dwh.country=='GB']\n",
    "df_gb_test = df_gb[df_gb.segment=='test']\n",
    "df_gb_control = df_gb[df_gb.segment=='control']"
   ]
  },
  {
   "cell_type": "markdown",
   "metadata": {},
   "source": [
    "# Australia"
   ]
  },
  {
   "cell_type": "markdown",
   "metadata": {},
   "source": [
    "## Average 10-week Net Revenue"
   ]
  },
  {
   "cell_type": "code",
   "execution_count": 23,
   "metadata": {},
   "outputs": [
    {
     "data": {
      "image/png": "[encoded data removed]",
      "text/plain": [
       "<Figure size 432x288 with 1 Axes>"
      ]
     },
     "metadata": {
      "needs_background": "light"
     },
     "output_type": "display_data"
    },
    {
     "name": "stdout",
     "output_type": "stream",
     "text": [
      "The difference in mean is -9.27.\n",
      "With a p-value of 0.58 the difference between groups is NOT statistically significant.\n"
     ]
    }
   ],
   "source": [
    "# creating barchart\n",
    "groupedvalues=df_au.groupby('segment').mean().reset_index()\n",
    "groupedvalues=groupedvalues.sort_values('10w_revenue_excluding_vat_local_currency').reset_index()\n",
    "g = sns.barplot(x='segment',y='10w_revenue_excluding_vat_local_currency',data=groupedvalues, palette=\"Greens\")\n",
    "g.set(xlabel = \"Group\", ylabel = \"Average 10-week Net Revenue\", title = \"AU\")\n",
    "\n",
    "# t-test\n",
    "n_test = df_au_test['customer_id'].nunique()\n",
    "mean_test = df_au_test['10w_revenue_excluding_vat_local_currency'].mean()\n",
    "std_test = df_au_test['10w_revenue_excluding_vat_local_currency'].std()\n",
    "\n",
    "n_control = df_au_control['customer_id'].nunique()\n",
    "mean_control = df_au_control['10w_revenue_excluding_vat_local_currency'].mean()\n",
    "std_control = df_au_control['10w_revenue_excluding_vat_local_currency'].std()\n",
    "\n",
    "tstat, pvalue = ttest_ind_from_stats(mean_test, std_test, n_test, mean_control, std_control, n_control)\n",
    "\n",
    "# showing results\n",
    "mean_diff = mean_test - mean_control\n",
    "\n",
    "plt.show()\n",
    "print('The difference in mean is '+str(\"%.2f\" % mean_diff)+'.')\n",
    "if pvalue < 0.05:\n",
    "    print('With a p-value of '+str(\"%.2f\" % pvalue)+' the difference between groups is statistically significant!')\n",
    "else:\n",
    "    print('With a p-value of '+str(\"%.2f\" % pvalue)+' the difference between groups is NOT statistically significant.')\n"
   ]
  },
  {
   "cell_type": "markdown",
   "metadata": {},
   "source": [
    "## Average 10-week Number of Deliveries"
   ]
  },
  {
   "cell_type": "code",
   "execution_count": 24,
   "metadata": {},
   "outputs": [
    {
     "data": {
      "image/png": "[encoded data removed]",
      "text/plain": [
       "<Figure size 432x288 with 1 Axes>"
      ]
     },
     "metadata": {
      "needs_background": "light"
     },
     "output_type": "display_data"
    },
    {
     "name": "stdout",
     "output_type": "stream",
     "text": [
      "The difference in mean is -0.04.\n",
      "With a p-value of 0.77 the difference between groups is NOT statistically significant.\n"
     ]
    }
   ],
   "source": [
    "# creating barchart\n",
    "groupedvalues=df_au.groupby('segment').mean().reset_index()\n",
    "groupedvalues=groupedvalues.sort_values('10w_deliveries').reset_index()\n",
    "g = sns.barplot(x='segment',y='10w_deliveries',data=groupedvalues, palette=\"Greens\")\n",
    "g.set(xlabel = \"Group\", ylabel = \"Average 10-week Number of Deliveries\", title = \"AU\")\n",
    "\n",
    "# t-test\n",
    "n_test = df_au_test['customer_id'].nunique()\n",
    "mean_test = df_au_test['10w_deliveries'].mean()\n",
    "std_test = df_au_test['10w_deliveries'].std()\n",
    "\n",
    "n_control = df_au_control['customer_id'].nunique()\n",
    "mean_control = df_au_control['10w_deliveries'].mean()\n",
    "std_control = df_au_control['10w_deliveries'].std()\n",
    "\n",
    "tstat, pvalue = ttest_ind_from_stats(mean_test, std_test, n_test, mean_control, std_control, n_control)\n",
    "\n",
    "# showing results\n",
    "mean_diff = mean_test - mean_control\n",
    "\n",
    "plt.show()\n",
    "print('The difference in mean is '+str(\"%.2f\" % mean_diff)+'.')\n",
    "if pvalue < 0.05:\n",
    "    print('With a p-value of '+str(\"%.2f\" % pvalue)+' the difference between groups is statistically significant!')\n",
    "else:\n",
    "    print('With a p-value of '+str(\"%.2f\" % pvalue)+' the difference between groups is NOT statistically significant.')\n"
   ]
  },
  {
   "cell_type": "markdown",
   "metadata": {},
   "source": [
    "## Average 10-week Number of Cancelled Weeks"
   ]
  },
  {
   "cell_type": "code",
   "execution_count": 25,
   "metadata": {},
   "outputs": [
    {
     "data": {
      "image/png": "[encoded data removed]",
      "text/plain": [
       "<Figure size 432x288 with 1 Axes>"
      ]
     },
     "metadata": {
      "needs_background": "light"
     },
     "output_type": "display_data"
    },
    {
     "name": "stdout",
     "output_type": "stream",
     "text": [
      "The difference in mean is -0.07.\n",
      "With a p-value of 0.56 the difference between groups is NOT statistically significant.\n"
     ]
    }
   ],
   "source": [
    "# creating barchart\n",
    "groupedvalues=df_au.groupby('segment').mean().reset_index()\n",
    "groupedvalues=groupedvalues.sort_values('10w_cancelled_weeks').reset_index()\n",
    "g = sns.barplot(x='segment',y='10w_cancelled_weeks',data=groupedvalues, palette=\"Greens\")\n",
    "g.set(xlabel = \"Group\", ylabel = \"Average 10-week Number of Cancelled Weeks\", title = \"AU\")\n",
    "\n",
    "# t-test\n",
    "n_test = df_au_test['customer_id'].nunique()\n",
    "mean_test = df_au_test['10w_cancelled_weeks'].mean()\n",
    "std_test = df_au_test['10w_cancelled_weeks'].std()\n",
    "\n",
    "n_control = df_au_control['customer_id'].nunique()\n",
    "mean_control = df_au_control['10w_cancelled_weeks'].mean()\n",
    "std_control = df_au_control['10w_cancelled_weeks'].std()\n",
    "\n",
    "tstat, pvalue = ttest_ind_from_stats(mean_test, std_test, n_test, mean_control, std_control, n_control)\n",
    "\n",
    "# showing results\n",
    "mean_diff = mean_test - mean_control\n",
    "\n",
    "plt.show()\n",
    "print('The difference in mean is '+str(\"%.2f\" % mean_diff)+'.')\n",
    "if pvalue < 0.05:\n",
    "    print('With a p-value of '+str(\"%.2f\" % pvalue)+' the difference between groups is statistically significant!')\n",
    "else:\n",
    "    print('With a p-value of '+str(\"%.2f\" % pvalue)+' the difference between groups is NOT statistically significant.')\n"
   ]
  },
  {
   "cell_type": "markdown",
   "metadata": {},
   "source": [
    "## Average NPS"
   ]
  },
  {
   "cell_type": "code",
   "execution_count": 26,
   "metadata": {},
   "outputs": [
    {
     "data": {
      "image/png": "[encoded data removed]",
      "text/plain": [
       "<Figure size 432x288 with 1 Axes>"
      ]
     },
     "metadata": {
      "needs_background": "light"
     },
     "output_type": "display_data"
    },
    {
     "name": "stdout",
     "output_type": "stream",
     "text": [
      "The difference in mean is -0.07.\n",
      "With a p-value of 0.39 the difference between groups is NOT statistically significant.\n"
     ]
    }
   ],
   "source": [
    "# creating barchart\n",
    "groupedvalues=df_au.groupby('segment').mean().reset_index()\n",
    "groupedvalues=groupedvalues.sort_values('nps_score').reset_index()\n",
    "g = sns.barplot(x='segment',y='nps_score',data=groupedvalues, palette=\"Greens\")\n",
    "g.set(xlabel = \"Group\", ylabel = \"Average NPS\", title = \"AU\")\n",
    "\n",
    "# t-test\n",
    "n_test = df_au_test['customer_id'].nunique()\n",
    "mean_test = df_au_test['nps_score'].mean()\n",
    "std_test = df_au_test['nps_score'].std()\n",
    "\n",
    "n_control = df_au_control['customer_id'].nunique()\n",
    "mean_control = df_au_control['nps_score'].mean()\n",
    "std_control = df_au_control['nps_score'].std()\n",
    "\n",
    "tstat, pvalue = ttest_ind_from_stats(mean_test, std_test, n_test, mean_control, std_control, n_control)\n",
    "\n",
    "# showing results\n",
    "mean_diff = mean_test - mean_control\n",
    "\n",
    "plt.show()\n",
    "print('The difference in mean is '+str(\"%.2f\" % mean_diff)+'.')\n",
    "if pvalue < 0.05:\n",
    "    print('With a p-value of '+str(\"%.2f\" % pvalue)+' the difference between groups is statistically significant!')\n",
    "else:\n",
    "    print('With a p-value of '+str(\"%.2f\" % pvalue)+' the difference between groups is NOT statistically significant.')\n"
   ]
  },
  {
   "cell_type": "markdown",
   "metadata": {},
   "source": [
    "# United Kingdom"
   ]
  },
  {
   "cell_type": "markdown",
   "metadata": {},
   "source": [
    "## Average 10-week Net Revenue"
   ]
  },
  {
   "cell_type": "code",
   "execution_count": 27,
   "metadata": {},
   "outputs": [
    {
     "data": {
      "image/png": "[encoded data removed]",
      "text/plain": [
       "<Figure size 432x288 with 1 Axes>"
      ]
     },
     "metadata": {
      "needs_background": "light"
     },
     "output_type": "display_data"
    },
    {
     "name": "stdout",
     "output_type": "stream",
     "text": [
      "The difference in mean is 8.25.\n",
      "With a p-value of 0.26 the difference between groups is NOT statistically significant.\n"
     ]
    }
   ],
   "source": [
    "# creating barchart\n",
    "groupedvalues=df_gb.groupby('segment').mean().reset_index()\n",
    "groupedvalues=groupedvalues.sort_values('10w_revenue_excluding_vat_local_currency').reset_index()\n",
    "g = sns.barplot(x='segment',y='10w_revenue_excluding_vat_local_currency',data=groupedvalues, palette=\"Blues\")\n",
    "g.set(xlabel = \"Group\", ylabel = \"Average 10-week Net Revenue\", title = \"GB\")\n",
    "\n",
    "# t-test\n",
    "n_test = df_gb_test['customer_id'].nunique()\n",
    "mean_test = df_gb_test['10w_revenue_excluding_vat_local_currency'].mean()\n",
    "std_test = df_gb_test['10w_revenue_excluding_vat_local_currency'].std()\n",
    "\n",
    "n_control = df_gb_control['customer_id'].nunique()\n",
    "mean_control = df_gb_control['10w_revenue_excluding_vat_local_currency'].mean()\n",
    "std_control = df_gb_control['10w_revenue_excluding_vat_local_currency'].std()\n",
    "\n",
    "tstat, pvalue = ttest_ind_from_stats(mean_test, std_test, n_test, mean_control, std_control, n_control)\n",
    "\n",
    "# showing results\n",
    "mean_diff = mean_test - mean_control\n",
    "\n",
    "plt.show()\n",
    "print('The difference in mean is '+str(\"%.2f\" % mean_diff)+'.')\n",
    "if pvalue < 0.05:\n",
    "    print('With a p-value of '+str(\"%.2f\" % pvalue)+' the difference between groups is statistically significant!')\n",
    "else:\n",
    "    print('With a p-value of '+str(\"%.2f\" % pvalue)+' the difference between groups is NOT statistically significant.')\n"
   ]
  },
  {
   "cell_type": "markdown",
   "metadata": {},
   "source": [
    "## Average 10-week Number of Deliveries"
   ]
  },
  {
   "cell_type": "code",
   "execution_count": 28,
   "metadata": {},
   "outputs": [
    {
     "data": {
      "image/png": "[encoded data removed]",
      "text/plain": [
       "<Figure size 432x288 with 1 Axes>"
      ]
     },
     "metadata": {
      "needs_background": "light"
     },
     "output_type": "display_data"
    },
    {
     "name": "stdout",
     "output_type": "stream",
     "text": [
      "The difference in mean is 0.19.\n",
      "With a p-value of 0.26 the difference between groups is NOT statistically significant.\n"
     ]
    }
   ],
   "source": [
    "# creating barchart\n",
    "groupedvalues=df_gb.groupby('segment').mean().reset_index()\n",
    "groupedvalues=groupedvalues.sort_values('10w_deliveries').reset_index()\n",
    "g = sns.barplot(x='segment',y='10w_deliveries',data=groupedvalues, palette=\"Blues\")\n",
    "g.set(xlabel = \"Group\", ylabel = \"Average 10-week Number of Deliveries\", title = \"GB\")\n",
    "\n",
    "# t-test\n",
    "n_test = df_gb_test['customer_id'].nunique()\n",
    "mean_test = df_gb_test['10w_deliveries'].mean()\n",
    "std_test = df_gb_test['10w_deliveries'].std()\n",
    "\n",
    "n_control = df_gb_control['customer_id'].nunique()\n",
    "mean_control = df_gb_control['10w_deliveries'].mean()\n",
    "std_control = df_gb_control['10w_deliveries'].std()\n",
    "\n",
    "tstat, pvalue = ttest_ind_from_stats(mean_test, std_test, n_test, mean_control, std_control, n_control)\n",
    "\n",
    "# showing results\n",
    "mean_diff = mean_test - mean_control\n",
    "\n",
    "plt.show()\n",
    "print('The difference in mean is '+str(\"%.2f\" % mean_diff)+'.')\n",
    "if pvalue < 0.05:\n",
    "    print('With a p-value of '+str(\"%.2f\" % pvalue)+' the difference between groups is statistically significant!')\n",
    "else:\n",
    "    print('With a p-value of '+str(\"%.2f\" % pvalue)+' the difference between groups is NOT statistically significant.')\n"
   ]
  },
  {
   "cell_type": "markdown",
   "metadata": {},
   "source": [
    "## Average 10-week Number of Cancelled Weeks"
   ]
  },
  {
   "cell_type": "code",
   "execution_count": 29,
   "metadata": {},
   "outputs": [
    {
     "data": {
      "image/png": "[encoded data removed]",
      "text/plain": [
       "<Figure size 432x288 with 1 Axes>"
      ]
     },
     "metadata": {
      "needs_background": "light"
     },
     "output_type": "display_data"
    },
    {
     "name": "stdout",
     "output_type": "stream",
     "text": [
      "The difference in mean is -0.10.\n",
      "With a p-value of 0.51 the difference between groups is NOT statistically significant.\n"
     ]
    }
   ],
   "source": [
    "# creating barchart\n",
    "groupedvalues=df_gb.groupby('segment').mean().reset_index()\n",
    "groupedvalues=groupedvalues.sort_values('10w_cancelled_weeks').reset_index()\n",
    "g = sns.barplot(x='segment',y='10w_cancelled_weeks',data=groupedvalues, palette=\"Blues\")\n",
    "g.set(xlabel = \"Group\", ylabel = \"Average 10-week Number of Cancelled Weeks\", title = \"GB\")\n",
    "\n",
    "# t-test\n",
    "n_test = df_gb_test['customer_id'].nunique()\n",
    "mean_test = df_gb_test['10w_cancelled_weeks'].mean()\n",
    "std_test = df_gb_test['10w_cancelled_weeks'].std()\n",
    "\n",
    "n_control = df_gb_control['customer_id'].nunique()\n",
    "mean_control = df_gb_control['10w_cancelled_weeks'].mean()\n",
    "std_control = df_gb_control['10w_cancelled_weeks'].std()\n",
    "\n",
    "tstat, pvalue = ttest_ind_from_stats(mean_test, std_test, n_test, mean_control, std_control, n_control)\n",
    "\n",
    "# showing results\n",
    "mean_diff = mean_test - mean_control\n",
    "\n",
    "plt.show()\n",
    "print('The difference in mean is '+str(\"%.2f\" % mean_diff)+'.')\n",
    "if pvalue < 0.05:\n",
    "    print('With a p-value of '+str(\"%.2f\" % pvalue)+' the difference between groups is statistically significant!')\n",
    "else:\n",
    "    print('With a p-value of '+str(\"%.2f\" % pvalue)+' the difference between groups is NOT statistically significant.')\n"
   ]
  },
  {
   "cell_type": "markdown",
   "metadata": {},
   "source": [
    "## Average NPS"
   ]
  },
  {
   "cell_type": "code",
   "execution_count": 30,
   "metadata": {},
   "outputs": [
    {
     "data": {
      "image/png": "[encoded data removed]",
      "text/plain": [
       "<Figure size 432x288 with 1 Axes>"
      ]
     },
     "metadata": {
      "needs_background": "light"
     },
     "output_type": "display_data"
    },
    {
     "name": "stdout",
     "output_type": "stream",
     "text": [
      "The difference in mean is -0.06.\n",
      "With a p-value of 0.57 the difference between groups is NOT statistically significant.\n"
     ]
    }
   ],
   "source": [
    "# creating barchart\n",
    "groupedvalues=df_gb.groupby('segment').mean().reset_index()\n",
    "groupedvalues=groupedvalues.sort_values('nps_score').reset_index()\n",
    "g = sns.barplot(x='segment',y='nps_score',data=groupedvalues, palette=\"Blues\")\n",
    "g.set(xlabel = \"Group\", ylabel = \"Average NPS\", title = \"GB\")\n",
    "\n",
    "# t-test\n",
    "n_test = df_gb_test['customer_id'].nunique()\n",
    "mean_test = df_gb_test['nps_score'].mean()\n",
    "std_test = df_gb_test['nps_score'].std()\n",
    "\n",
    "n_control = df_gb_control['customer_id'].nunique()\n",
    "mean_control = df_gb_control['nps_score'].mean()\n",
    "std_control = df_gb_control['nps_score'].std()\n",
    "\n",
    "tstat, pvalue = ttest_ind_from_stats(mean_test, std_test, n_test, mean_control, std_control, n_control)\n",
    "\n",
    "# showing results\n",
    "mean_diff = mean_test - mean_control\n",
    "\n",
    "plt.show()\n",
    "print('The difference in mean is '+str(\"%.2f\" % mean_diff)+'.')\n",
    "if pvalue < 0.05:\n",
    "    print('With a p-value of '+str(\"%.2f\" % pvalue)+' the difference between groups is statistically significant!')\n",
    "else:\n",
    "    print('With a p-value of '+str(\"%.2f\" % pvalue)+' the difference between groups is NOT statistically significant.')\n"
   ]
  },
  {
   "cell_type": "code",
   "execution_count": null,
   "metadata": {},
   "outputs": [],
   "source": []
  }
 ],
 "metadata": {
  "kernelspec": {
   "display_name": "Python 3",
   "language": "python",
   "name": "python3"
  },
  "language_info": {
   "codemirror_mode": {
    "name": "ipython",
    "version": 3
   },
   "file_extension": ".py",
   "mimetype": "text/x-python",
   "name": "python",
   "nbconvert_exporter": "python",
   "pygments_lexer": "ipython3",
   "version": "3.8.2"
  }
 },
 "nbformat": 4,
 "nbformat_minor": 2
}
